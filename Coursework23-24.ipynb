{
 "cells": [
  {
   "cell_type": "markdown",
   "metadata": {},
   "source": [
    "Before you turn this problem in, make sure everything runs as expected. First, **restart the kernel** (in the menubar, select Kernel$\\rightarrow$Restart) and then **run all cells** (in the menubar, select Cell$\\rightarrow$Run All).\n",
    "\n",
    "Make sure you fill in any place that says `YOUR CODE HERE` or \"YOUR ANSWER HERE\""
   ]
  },
  {
   "cell_type": "markdown",
   "metadata": {
    "deletable": false,
    "editable": false,
    "nbgrader": {
     "cell_type": "markdown",
     "checksum": "ea676fc5daf34b79365ba0b97c057f57",
     "grade": false,
     "grade_id": "cell-6f578c8e530dc6fd",
     "locked": true,
     "schema_version": 3,
     "solution": false,
     "task": false
    }
   },
   "source": [
    "Please use this template to submit your coursework assignment for COMP42215. You may add new code blocks if needed, but make sure the question number is clearly identified. There will be a video provided on Ultra to demonstrate how to submit this notebook once you have completed the tasks. You may submit multiple times up to the deadline, but only the last submission will be marked. We will run all of your code on NCC, so please ensure your notebook runs successfully before submission by clicking `Kernel` -> `Restart & Run All`. The deadline for submissions is 2pm on Friday 3rd November 2023. Late submissions (submitted up to 5 working days after the deadline) will be marked and capped at the pass mark of 50%. All later submissions will be given a mark of 0."
   ]
  },
  {
   "cell_type": "markdown",
   "metadata": {
    "deletable": false,
    "editable": false,
    "nbgrader": {
     "cell_type": "markdown",
     "checksum": "e313248b92ce281c3883bd1b7b563108",
     "grade": false,
     "grade_id": "cell-baf9c8c198566c52",
     "locked": true,
     "schema_version": 3,
     "solution": false,
     "task": false
    }
   },
   "source": [
    "You may want to place all of your import statements in the code block below, or you can import modules in the appropriate code blocks as needed, it doesn't matter which approach you want to take. "
   ]
  },
  {
   "cell_type": "code",
   "execution_count": 1,
   "metadata": {
    "deletable": false,
    "nbgrader": {
     "cell_type": "code",
     "checksum": "32599f96bbebc8f2b9f13a1fb2037e7d",
     "grade": true,
     "grade_id": "cell-62ce7ae43fab20f8",
     "locked": false,
     "points": 0,
     "schema_version": 3,
     "solution": true,
     "task": false
    }
   },
   "outputs": [],
   "source": [
    "#Imports can go here\n",
    "import numpy  as np\n",
    "import timeit\n",
    "import random\n",
    "import matplotlib.pyplot as plt\n"
   ]
  },
  {
   "cell_type": "markdown",
   "metadata": {
    "deletable": false,
    "editable": false,
    "nbgrader": {
     "cell_type": "markdown",
     "checksum": "e58f2ba2333512bd6b36955bc39e2e92",
     "grade": false,
     "grade_id": "cell-9a71352a156e189d",
     "locked": true,
     "schema_version": 3,
     "solution": false,
     "task": false
    }
   },
   "source": [
    "## Section 1 (35%)"
   ]
  },
  {
   "cell_type": "markdown",
   "metadata": {
    "deletable": false,
    "editable": false,
    "nbgrader": {
     "cell_type": "markdown",
     "checksum": "6291182cf2a1833920a871f7ea7b0c8b",
     "grade": false,
     "grade_id": "cell-0113701a6a38f8df",
     "locked": true,
     "schema_version": 3,
     "solution": false,
     "task": false
    }
   },
   "source": [
    "1) Write a function to generate two Python lists of the same size that contain random integer data. The function should take as an argument the desired size of the lists, and return a tuple containing the two lists. [5%]"
   ]
  },
  {
   "cell_type": "code",
   "execution_count": 2,
   "metadata": {
    "deletable": false,
    "nbgrader": {
     "cell_type": "code",
     "checksum": "e36341b143ef391b829a23c572adbc0a",
     "grade": true,
     "grade_id": "cell-0211269a4de58cac",
     "locked": false,
     "points": 5,
     "schema_version": 3,
     "solution": true,
     "task": false
    }
   },
   "outputs": [
    {
     "name": "stdout",
     "output_type": "stream",
     "text": [
      "Please enter a size:5\n",
      "([31, 40, 28, 45, 82], [84, 1, 25, 80, 17])\n"
     ]
    }
   ],
   "source": [
    "# YOUR CODE HERE\n",
    "\n",
    "def lists(i):\n",
    "    L1 = [random.randint(0,100) for _ in range(i)]      #use random to generate i integer data from 0 to 100\n",
    "    L2 = [random.randint(0,100) for _ in range(i)]\n",
    "    return L1,L2\n",
    "\n",
    "while True:\n",
    "    num = int(input(\"Please enter a size:\"))\n",
    "    if (num > 0):\n",
    "        l1,l2=lists(num)\n",
    "        t=(l1,l2)\n",
    "        print(t)\n",
    "        break\n",
    "    else:\n",
    "        print(\"Not a valid input, please provide an input size greater than zero\")\n",
    "\n",
    "\n"
   ]
  },
  {
   "cell_type": "markdown",
   "metadata": {
    "deletable": false,
    "editable": false,
    "nbgrader": {
     "cell_type": "markdown",
     "checksum": "98a9624393682d9b0a28213fdc5ed82d",
     "grade": false,
     "grade_id": "cell-b1a1e3f93fb01ef8",
     "locked": true,
     "schema_version": 3,
     "solution": false,
     "task": false
    }
   },
   "source": [
    "2) Write a function that takes two Python lists as input and multiplies them together elementwise, returning a new list object. (I.e. you should not overwrite the data in either input list) [3%]"
   ]
  },
  {
   "cell_type": "code",
   "execution_count": 3,
   "metadata": {
    "deletable": false,
    "nbgrader": {
     "cell_type": "code",
     "checksum": "a238bddaa2be1a982feb0a9f9ef8bbdc",
     "grade": true,
     "grade_id": "cell-0986bd5e6757e7f4",
     "locked": false,
     "points": 3,
     "schema_version": 3,
     "solution": true,
     "task": false
    }
   },
   "outputs": [
    {
     "data": {
      "text/plain": [
       "[2604, 40, 700, 3600, 1394]"
      ]
     },
     "execution_count": 3,
     "metadata": {},
     "output_type": "execute_result"
    }
   ],
   "source": [
    "# YOUR CODE HERE\n",
    "def multiple_list(A,B):\n",
    "    C=[]          #define a new empty list\n",
    "    for j in range(0,len(A)):\n",
    "        x=A[j]*B[j]     #multiply two lists  elementwise\n",
    "        C.append(x)   #put the element into the new list\n",
    "    return C\n",
    "multiple_list(l1,l2)"
   ]
  },
  {
   "cell_type": "markdown",
   "metadata": {
    "deletable": false,
    "editable": false,
    "nbgrader": {
     "cell_type": "markdown",
     "checksum": "cdfb900c182af0ed148fd8ec0797f887",
     "grade": false,
     "grade_id": "cell-03c48f78300c91a1",
     "locked": true,
     "schema_version": 3,
     "solution": false,
     "task": false
    }
   },
   "source": [
    "3) Write a function to generate two 1-dimensional NumPy arrays (ndarrays) of the same size that contain random integer data. The function should take as an argument the desired size of the arrays, and return a tuple containing the two arrays. [5%]"
   ]
  },
  {
   "cell_type": "code",
   "execution_count": 4,
   "metadata": {
    "deletable": false,
    "nbgrader": {
     "cell_type": "code",
     "checksum": "00542eec788f5c371a2f89cd619c14b9",
     "grade": true,
     "grade_id": "cell-f35d4e7a931228d4",
     "locked": false,
     "points": 5,
     "schema_version": 3,
     "solution": true,
     "task": false
    }
   },
   "outputs": [
    {
     "name": "stdout",
     "output_type": "stream",
     "text": [
      "Please enter a size:5\n",
      "(array([15,  8,  6, 66,  6]), array([20, 31, 49, 43, 48]))\n"
     ]
    }
   ],
   "source": [
    "# YOUR CODE HERE\n",
    "def arrays(k):\n",
    "    A=np.random.randint(100, size=k)\n",
    "    B=np.random.randint(100, size=k)\n",
    "    return A,B\n",
    "\n",
    "while True:\n",
    "    numb = int(input(\"Please enter a size:\"))\n",
    "    if (numb > 0):\n",
    "        a1,b1=arrays(numb)\n",
    "        p=(a1,b1)\n",
    "        print(p)\n",
    "        break\n",
    "    else:\n",
    "        print(\"Not a valid input, please provide an input size greater than zero\")\n",
    "\n",
    "\n",
    "\n"
   ]
  },
  {
   "cell_type": "markdown",
   "metadata": {
    "deletable": false,
    "editable": false,
    "nbgrader": {
     "cell_type": "markdown",
     "checksum": "fb933b3ccfebc750cd3ff462aba4a912",
     "grade": false,
     "grade_id": "cell-1c95ed01665df6ca",
     "locked": true,
     "schema_version": 3,
     "solution": false,
     "task": false
    }
   },
   "source": [
    "4) Write a function that takes two NumPy arrays as input and applies the appropriate NumPy function to multiply the two arrays elementwise, returning a new NumPy array. (I.e. you should not overwrite the data in either input array). [2%]"
   ]
  },
  {
   "cell_type": "code",
   "execution_count": 5,
   "metadata": {
    "deletable": false,
    "nbgrader": {
     "cell_type": "code",
     "checksum": "69ff10183c3e6fc1ab124f63c4a42592",
     "grade": true,
     "grade_id": "cell-727387a27435d450",
     "locked": false,
     "points": 2,
     "schema_version": 3,
     "solution": true,
     "task": false
    }
   },
   "outputs": [
    {
     "data": {
      "text/plain": [
       "array([ 300,  248,  294, 2838,  288])"
      ]
     },
     "execution_count": 5,
     "metadata": {},
     "output_type": "execute_result"
    }
   ],
   "source": [
    "# YOUR CODE HERE\n",
    "def multiple_np(X,Y):\n",
    "    D=np.multiply(X,Y)          #use np.multiply() function to multiply two arrays elementwise\n",
    "    return D\n",
    "multiple_np(a1,b1)"
   ]
  },
  {
   "cell_type": "markdown",
   "metadata": {
    "deletable": false,
    "editable": false,
    "nbgrader": {
     "cell_type": "markdown",
     "checksum": "7beb3b48b0331515eaccf87337861d08",
     "grade": false,
     "grade_id": "cell-4d67702b7caa1823",
     "locked": true,
     "schema_version": 3,
     "solution": false,
     "task": false
    }
   },
   "source": [
    "5) Time your functions from Q2 and Q4 on an appropriate range of input sizes (using your solutions to Q1 and Q3 to generate the inputs). Use the data you collect to draw graphs (using matplotlib) that compare the performance of your functions. [10%]"
   ]
  },
  {
   "cell_type": "code",
   "execution_count": 16,
   "metadata": {
    "deletable": false,
    "nbgrader": {
     "cell_type": "code",
     "checksum": "74b0cbbd3278bb136e4e7a0b053a959a",
     "grade": true,
     "grade_id": "cell-7af7ca5f38ace457",
     "locked": false,
     "points": 10,
     "schema_version": 3,
     "solution": true,
     "task": false
    }
   },
   "outputs": [
    {
     "name": "stdout",
     "output_type": "stream",
     "text": [
      "Q2 list_len: x= 5  y= 0.0002358749625273049\n",
      "Q2 list_len: x= 10  y= 0.00026347103994339705\n",
      "Q2 list_len: x= 15  y= 0.00045775400940328836\n",
      "Q2 list_len: x= 20  y= 0.000491090991999954\n",
      "Q2 list_len: x= 25  y= 0.0005532029899768531\n",
      "Q2 list_len: x= 30  y= 0.0007035579765215516\n",
      "Q2 list_len: x= 35  y= 0.0007956339977681637\n",
      "Q2 list_len: x= 40  y= 0.0009010540088638663\n",
      "Q2 list_len: x= 45  y= 0.000987790001090616\n",
      "Q2 list_len: x= 50  y= 0.0010691130300983787\n",
      "Q2 list_len: x= 55  y= 0.0011206329800188541\n",
      "Q2 list_len: x= 60  y= 0.0012559359893202782\n",
      "Q2 list_len: x= 65  y= 0.0013136069756001234\n",
      "Q2 list_len: x= 70  y= 0.001420926011633128\n",
      "Q2 list_len: x= 75  y= 0.0015157610177993774\n",
      "Q2 list_len: x= 80  y= 0.0016424719942733645\n",
      "Q2 list_len: x= 85  y= 0.0016985979746095836\n",
      "Q2 list_len: x= 90  y= 0.001805306994356215\n",
      "Q2 list_len: x= 95  y= 0.0018870119820348918\n",
      "--------------------------------------------------------------------------------\n",
      "Q4 array_len: x= 5  y= 0.00011211202945560217\n",
      "Q4 array_len: x= 10  y= 0.00010778603609651327\n",
      "Q4 array_len: x= 15  y= 0.00010911899153143167\n",
      "Q4 array_len: x= 20  y= 0.00015566899674013257\n",
      "Q4 array_len: x= 25  y= 0.00011812103912234306\n",
      "Q4 array_len: x= 30  y= 0.0001181510160677135\n",
      "Q4 array_len: x= 35  y= 0.0001176159712485969\n",
      "Q4 array_len: x= 40  y= 0.00016103900270536542\n",
      "Q4 array_len: x= 45  y= 0.00014695199206471443\n",
      "Q4 array_len: x= 50  y= 0.00011910003377124667\n",
      "Q4 array_len: x= 55  y= 0.00012057600542902946\n",
      "Q4 array_len: x= 60  y= 0.00012014200910925865\n",
      "Q4 array_len: x= 65  y= 0.00011959701078012586\n",
      "Q4 array_len: x= 70  y= 0.00012079003499820828\n",
      "Q4 array_len: x= 75  y= 0.00012061698362231255\n",
      "Q4 array_len: x= 80  y= 0.00012187898391857743\n",
      "Q4 array_len: x= 85  y= 0.0001222699647769332\n",
      "Q4 array_len: x= 90  y= 0.00012186798267066479\n",
      "Q4 array_len: x= 95  y= 0.00012307899305596948\n"
     ]
    },
    {
     "data": {
      "image/png": "[encoded data removed]",
      "text/plain": [
       "<Figure size 576x576 with 1 Axes>"
      ]
     },
     "metadata": {
      "needs_background": "light"
     },
     "output_type": "display_data"
    }
   ],
   "source": [
    "# YOUR CODE HERE\n",
    "Q2=[]           #a new list for time consuming each number in question2\n",
    "Q4=[]\n",
    "seperate='-'*80    #generate a  seperate sign for the print\n",
    "N = [m for m in range(5, 100, 5)]\n",
    "for m in N:\n",
    "    l1, l2 = lists(m)\n",
    "    a1, b1 = arrays(m)\n",
    "    q2 = timeit.timeit('multiple_list(l1, l2)', globals=globals(), number=100)\n",
    "    q4 = timeit.timeit('multiple_np(a1, b1)', globals=globals(), number=100)\n",
    "    Q2.append(q2)\n",
    "    Q4.append(q4)\n",
    "p = o = 0\n",
    "for m in N:\n",
    "    print('Q2 list_len: x=', m, ' y=', Q2[p])\n",
    "    p += 1\n",
    "print(seperate)\n",
    "for m in N:\n",
    "    print('Q4 array_len: x=', m, ' y=', Q4[o])\n",
    "    o += 1\n",
    "\n",
    "plt.figure(figsize=(8,8))   #set the size of the whole image\n",
    "\n",
    "plt.plot(N,Q2,label='Question 2')\n",
    "plt.plot(N,Q4,label='Question 4')\n",
    "plt.xlabel('input sizes')\n",
    "plt.ylabel('time consuming')\n",
    "plt.title('Performance comparison')\n",
    "plt.legend(loc='upper left')\n",
    "plt.show()"
   ]
  },
  {
   "cell_type": "markdown",
   "metadata": {
    "deletable": false,
    "editable": false,
    "nbgrader": {
     "cell_type": "markdown",
     "checksum": "c83f29577a192b50f3143566e8fa312e",
     "grade": false,
     "grade_id": "cell-ae737eed8ab94d52",
     "locked": true,
     "schema_version": 3,
     "solution": false,
     "task": false
    }
   },
   "source": [
    "6) Discuss in 250 words or less what your results show. You should consider the computational complexity of your functions. If you don’t manage to collect any data you should research and discuss what you would expect the results to show. [10%]"
   ]
  },
  {
   "cell_type": "markdown",
   "metadata": {
    "deletable": false,
    "nbgrader": {
     "cell_type": "markdown",
     "checksum": "028a7e91d63e75306fee018e42ca2d17",
     "grade": true,
     "grade_id": "cell-d248947de5cf6274",
     "locked": false,
     "points": 10,
     "schema_version": 3,
     "solution": true,
     "task": false
    }
   },
   "source": [
    "In the image, we can see that as the input increases, the longer the average time required for the code of the second question,the curve slopes upward to the right with a positive slope, while the curve in question 4 almost remain level. This is because the computational complexity of question 2 is o(n),while in question 4 is also o(n). However, due to numpy is originally coded in C language and has been highly optimzed, it can process huge number of inputs efficiently, while at first may cost longer time to call it.That's why it has a slightly decrease at the beginning."
   ]
  },
  {
   "cell_type": "markdown",
   "metadata": {
    "deletable": false,
    "editable": false,
    "nbgrader": {
     "cell_type": "markdown",
     "checksum": "5babe10b78b4ded7f17b0f4a4fc7c4aa",
     "grade": false,
     "grade_id": "cell-a69d40e428f818dc",
     "locked": true,
     "schema_version": 3,
     "solution": false,
     "task": false
    }
   },
   "source": [
    "## Section 2 (55%)"
   ]
  },
  {
   "cell_type": "markdown",
   "metadata": {
    "deletable": false,
    "editable": false,
    "nbgrader": {
     "cell_type": "markdown",
     "checksum": "e0e3f3a89411cfe63fec080df9a7e4ec",
     "grade": false,
     "grade_id": "cell-a691fa099f64b58b",
     "locked": true,
     "schema_version": 3,
     "solution": false,
     "task": false
    }
   },
   "source": [
    "7) Write a function to generate two ‘n x n’ matrices of random integer data. Your matrix variables should be objects of type “numpy.ndarray”. The function should take as an argument the desired size of the matrices (the value ‘n’). [5%]"
   ]
  },
  {
   "cell_type": "code",
   "execution_count": 7,
   "metadata": {
    "deletable": false,
    "nbgrader": {
     "cell_type": "code",
     "checksum": "82019857f781e83d6af0e132f54c4153",
     "grade": true,
     "grade_id": "cell-c77ebdb2c8d5ca6d",
     "locked": false,
     "points": 5,
     "schema_version": 3,
     "solution": true,
     "task": false
    }
   },
   "outputs": [
    {
     "name": "stdout",
     "output_type": "stream",
     "text": [
      "Please enter a size:5\n",
      "[[10 68 92 70  7]\n",
      " [28 86 42 70 22]\n",
      " [23 13  1 79 73]\n",
      " [43 32 34 37 60]\n",
      " [62 15 11 89 41]]\n",
      "[[67 21 60 94 18]\n",
      " [89  1 48 82 53]\n",
      " [31  0 69 26 17]\n",
      " [67 88 65 77 62]\n",
      " [88 32 97 90 94]]\n"
     ]
    }
   ],
   "source": [
    "# YOUR CODE HERE\n",
    "def matrices(n):\n",
    "    m1=np.random.randint(100,size=(n,n))    #use random to generate a matrix of integer data\n",
    "    m2=np.random.randint(100,size=(n,n))\n",
    "    return m1,m2\n",
    "while True:\n",
    "    nu = int(input(\"Please enter a size:\"))\n",
    "    if (nu > 0):\n",
    "        F,G=matrices(nu)\n",
    "        print(F)\n",
    "        print(G)\n",
    "        break\n",
    "    else:\n",
    "        print(\"Not a valid input, please provide an input size greater than zero\")\n",
    "\n",
    "\n"
   ]
  },
  {
   "cell_type": "markdown",
   "metadata": {
    "deletable": false,
    "editable": false,
    "nbgrader": {
     "cell_type": "markdown",
     "checksum": "7452184858f466616fe53819311946fa",
     "grade": false,
     "grade_id": "cell-5fe1919c38622888",
     "locked": true,
     "schema_version": 3,
     "solution": false,
     "task": false
    }
   },
   "source": [
    "8) Write a function that takes two ‘n x n’ matrices as arguments and calculates the absolute value of the difference between the matrices in an elementwise fashion. I.e. If our matrices variables are ‘A’ and ‘B’ we are calculating |A-B| for each element. Your function should return an ‘n x n’ NumPy array. [7%]"
   ]
  },
  {
   "cell_type": "code",
   "execution_count": 8,
   "metadata": {
    "deletable": false,
    "nbgrader": {
     "cell_type": "code",
     "checksum": "3354c2d112158a11da946dd4fd5a5e07",
     "grade": true,
     "grade_id": "cell-cce33b3f12c5c685",
     "locked": false,
     "points": 7,
     "schema_version": 3,
     "solution": true,
     "task": false
    }
   },
   "outputs": [
    {
     "data": {
      "text/plain": [
       "array([[57, 47, 32, 24, 11],\n",
       "       [61, 85,  6, 12, 31],\n",
       "       [ 8, 13, 68, 53, 56],\n",
       "       [24, 56, 31, 40,  2],\n",
       "       [26, 17, 86,  1, 53]])"
      ]
     },
     "execution_count": 8,
     "metadata": {},
     "output_type": "execute_result"
    }
   ],
   "source": [
    "# YOUR CODE HERE\n",
    "def difference(A,B):\n",
    "    H=abs(A-B)              #use abs() function to calculate\n",
    "    return H\n",
    "difference(F,G)"
   ]
  },
  {
   "cell_type": "markdown",
   "metadata": {
    "deletable": false,
    "editable": false,
    "nbgrader": {
     "cell_type": "markdown",
     "checksum": "b8c0143ea9ace57cbefcfbd28fa6f55c",
     "grade": false,
     "grade_id": "cell-f3fc1a68ceeca265",
     "locked": true,
     "schema_version": 3,
     "solution": false,
     "task": false
    }
   },
   "source": [
    "9) Write a function that takes two ‘n x n’ matrices as arguments and applies the built-in NumPy matrix multiplication function on them and returns the result. [3%]"
   ]
  },
  {
   "cell_type": "code",
   "execution_count": 9,
   "metadata": {
    "deletable": false,
    "nbgrader": {
     "cell_type": "code",
     "checksum": "56db8654affbe9af5e0726e987b4be05",
     "grade": true,
     "grade_id": "cell-9c7b7e711763f190",
     "locked": false,
     "points": 3,
     "schema_version": 3,
     "solution": true,
     "task": false
    }
   },
   "outputs": [
    {
     "data": {
      "text/plain": [
       "array([[14880,  6662, 15441, 14928, 10346],\n",
       "       [17458,  7538, 15390, 18146, 12184],\n",
       "       [14446,  9784, 14289, 15907, 12880],\n",
       "       [14542,  6111, 14687, 15799, 10982],\n",
       "       [15401, 10461, 14961, 17887, 11470]])"
      ]
     },
     "execution_count": 9,
     "metadata": {},
     "output_type": "execute_result"
    }
   ],
   "source": [
    "# YOUR CODE HERE\n",
    "def matrix_multi(A,B):\n",
    "    mm=np.dot(A,B)            #use np.dot() function to do the multiplication\n",
    "    return mm\n",
    "I=matrix_multi(F,G)\n",
    "I"
   ]
  },
  {
   "cell_type": "markdown",
   "metadata": {
    "deletable": false,
    "editable": false,
    "nbgrader": {
     "cell_type": "markdown",
     "checksum": "06acc85140fd6fa04e9ffd3bd42d6e77",
     "grade": false,
     "grade_id": "cell-d56fb1ae6d029159",
     "locked": true,
     "schema_version": 3,
     "solution": false,
     "task": false
    }
   },
   "source": [
    "10) Write your own function to multiply together two ‘n x n’ matrices. The function should take two ‘n x n’ matrices as arguments, and return the result of the matrix multiplication. You should use appropriate Python loops and no additional library functions. [12%]"
   ]
  },
  {
   "cell_type": "code",
   "execution_count": 10,
   "metadata": {
    "deletable": false,
    "nbgrader": {
     "cell_type": "code",
     "checksum": "8b3b976f482a9bfb33c6e045237e21c1",
     "grade": true,
     "grade_id": "cell-a10f40585014e839",
     "locked": false,
     "points": 12,
     "schema_version": 3,
     "solution": true,
     "task": false
    }
   },
   "outputs": [
    {
     "data": {
      "text/plain": [
       "array([[14880,  6662, 15441, 14928, 10346],\n",
       "       [17458,  7538, 15390, 18146, 12184],\n",
       "       [14446,  9784, 14289, 15907, 12880],\n",
       "       [14542,  6111, 14687, 15799, 10982],\n",
       "       [15401, 10461, 14961, 17887, 11470]])"
      ]
     },
     "execution_count": 10,
     "metadata": {},
     "output_type": "execute_result"
    }
   ],
   "source": [
    "# YOUR CODE HERE\n",
    "def normal_multi(A,B):\n",
    "    r,c=A.shape                 #calculate the rows and cols of matrix A\n",
    "    Z=np.zeros((r,c),dtype=int)            #define an empty matrix with 0\n",
    "    for i in range(r):\n",
    "        for j in range(c):\n",
    "            for k in range(c):\n",
    "                Z[i][j]+=A[i][k]*B[k][j]       #do the multiplication of two matrixes\n",
    "    return Z\n",
    "J=normal_multi(F,G)\n",
    "J"
   ]
  },
  {
   "cell_type": "markdown",
   "metadata": {
    "deletable": false,
    "editable": false,
    "nbgrader": {
     "cell_type": "markdown",
     "checksum": "2289505026b85b75b43b1cef26a91600",
     "grade": false,
     "grade_id": "cell-87214a7ffc18e077",
     "locked": true,
     "schema_version": 3,
     "solution": false,
     "task": false
    }
   },
   "source": [
    "11) Using the appropriate comparison operators, check to see if your function for Q10 returns the same answer as the function you wrote for Q9 when given the same input. If the answer match, then print a statement to say they match, if the answers are different then print a statement to say they are different. [3%]"
   ]
  },
  {
   "cell_type": "code",
   "execution_count": 11,
   "metadata": {
    "deletable": false,
    "nbgrader": {
     "cell_type": "code",
     "checksum": "f53a281feef0259e7b302d92cf06299b",
     "grade": true,
     "grade_id": "cell-afa21501c4915f03",
     "locked": false,
     "points": 3,
     "schema_version": 3,
     "solution": true,
     "task": false
    }
   },
   "outputs": [
    {
     "name": "stdout",
     "output_type": "stream",
     "text": [
      "The outcomes are match!\n"
     ]
    }
   ],
   "source": [
    "# YOUR CODE HERE\n",
    "def match(A,B):\n",
    "    outcome= True\n",
    "    r,c=A.shape\n",
    "    B=np.array(B)   #transfer a list into a ndarray\n",
    "    for i in range(r):\n",
    "        for j in range(c):\n",
    "            if B[i][j]!=A[i][j]:    #if each element in B is not equal to A\n",
    "                outcome=False\n",
    "                break\n",
    "    if outcome:\n",
    "        return print('The outcomes are match!')\n",
    "    else:\n",
    "        return print('The outcomes are different!')\n",
    "match(I,J)"
   ]
  },
  {
   "cell_type": "markdown",
   "metadata": {
    "deletable": false,
    "editable": false,
    "nbgrader": {
     "cell_type": "markdown",
     "checksum": "6c303c80f7ceab829783427a557f120f",
     "grade": false,
     "grade_id": "cell-1992ab3b0d5c79ee",
     "locked": true,
     "schema_version": 3,
     "solution": false,
     "task": false
    }
   },
   "source": [
    "12) Time your functions from Q8, Q9 and Q10 on an appropriate range of input sizes (using your solution to Q7 to generate the inputs). Use the data you collect to draw graphs (using matplotlib) that compare the performance of your functions. You may want to consider comparing all three functions with each other to start with and then maybe analyse some functions in greater detail. [15%]"
   ]
  },
  {
   "cell_type": "code",
   "execution_count": 15,
   "metadata": {
    "deletable": false,
    "nbgrader": {
     "cell_type": "code",
     "checksum": "2ddcc684e2c1f3263db11f752c3608f7",
     "grade": true,
     "grade_id": "cell-2cdd496e05efc762",
     "locked": false,
     "points": 15,
     "schema_version": 3,
     "solution": true,
     "task": false
    }
   },
   "outputs": [
    {
     "name": "stdout",
     "output_type": "stream",
     "text": [
      "Q8 size: x= 10  y= 0.00020184996537864208\n",
      "Q8 size: x= 15  y= 0.00025180401280522346\n",
      "Q8 size: x= 20  y= 0.0002744870143942535\n",
      "Q8 size: x= 25  y= 0.00033351703314110637\n",
      "Q8 size: x= 30  y= 0.00039347895653918386\n",
      "Q8 size: x= 35  y= 0.0004731810186058283\n",
      "Q8 size: x= 40  y= 0.0005476360092870891\n",
      "Q8 size: x= 45  y= 0.0006230460130609572\n",
      "--------------------------------------------------------------------------------\n",
      "Q9 size: x= 10  y= 0.0005112480139359832\n",
      "Q9 size: x= 15  y= 0.000987980980426073\n",
      "Q9 size: x= 20  y= 0.0019085800158791244\n",
      "Q9 size: x= 25  y= 0.0033378960215486586\n",
      "Q9 size: x= 30  y= 0.00547545898007229\n",
      "Q9 size: x= 35  y= 0.008194307971280068\n",
      "Q9 size: x= 40  y= 0.01205353596014902\n",
      "Q9 size: x= 45  y= 0.016645650030113757\n",
      "--------------------------------------------------------------------------------\n",
      "Q10 size: x= 10  y= 0.20098999998299405\n",
      "Q10 size: x= 15  y= 0.6583648010273464\n",
      "Q10 size: x= 20  y= 1.5429864850011654\n",
      "Q10 size: x= 25  y= 3.0020398080232553\n",
      "Q10 size: x= 30  y= 5.168164444970898\n",
      "Q10 size: x= 35  y= 8.361395257990807\n",
      "Q10 size: x= 40  y= 12.49247502896469\n",
      "Q10 size: x= 45  y= 17.741069604991935\n"
     ]
    },
    {
     "data": {
      "image/png": "[encoded data removed]",
      "text/plain": [
       "<Figure size 1440x360 with 3 Axes>"
      ]
     },
     "metadata": {
      "needs_background": "light"
     },
     "output_type": "display_data"
    }
   ],
   "source": [
    "# YOUR CODE HERE\n",
    "Q8=[]\n",
    "Q9=[]\n",
    "Q10=[]\n",
    "sizes=[g for g in range(10,50,5)]\n",
    "for size in sizes:\n",
    "    F,G=matrices(size)\n",
    "    q8=timeit.timeit('difference(F,G)',globals=globals(),number=100)\n",
    "    q9=timeit.timeit('matrix_multi(F,G)',globals=globals(),number=100)\n",
    "    q10=timeit.timeit('normal_multi(F,G)',globals=globals(),number=100)\n",
    "    Q8.append(q8)\n",
    "    Q9.append(q9)\n",
    "    Q10.append(q10)\n",
    "\n",
    "f = h = j=0                                                  #printout the outcomes\n",
    "for g in sizes:\n",
    "    print('Q8 size: x=', g, ' y=', Q8[f])\n",
    "    f += 1\n",
    "print(seperate)\n",
    "for g in sizes:\n",
    "    print('Q9 size: x=', g, ' y=', Q9[h])\n",
    "    h += 1\n",
    "print(seperate)\n",
    "for g in sizes:\n",
    "    print('Q10 size: x=', g, ' y=', Q10[j])\n",
    "    j += 1\n",
    "plt.figure(figsize=(20,5))\n",
    "plt.subplot(131)                                       #the first picture's location\n",
    "plt.plot(sizes,Q8,label='Question 8')\n",
    "plt.plot(sizes,Q9,label='Question 9')\n",
    "plt.plot(sizes,Q10,label='Question 10')\n",
    "plt.xlabel('size')\n",
    "plt.ylabel('time consuming')\n",
    "plt.title('comparison')\n",
    "plt.legend(loc='upper left')\n",
    "plt.xticks(np.arange(10, 50,5))\n",
    "\n",
    "plt.subplot(132)\n",
    "plt.plot(sizes,Q8,label='Question 8')\n",
    "plt.plot(sizes,Q9,label='Question 9')\n",
    "plt.xlabel('size')\n",
    "plt.ylabel('time consuming')\n",
    "plt.title('comparison')\n",
    "plt.legend(loc='upper left')\n",
    "plt.xticks(np.arange(10, 50,5))\n",
    "\n",
    "plt.subplot(133)\n",
    "plt.plot(sizes,Q8,label='Question 8')\n",
    "plt.xlabel('size')\n",
    "plt.ylabel('time consuming')\n",
    "plt.title('comparison')\n",
    "plt.legend(loc='upper left')\n",
    "plt.xticks(np.arange(10,50, 5))\n",
    "\n",
    "plt.show()"
   ]
  },
  {
   "cell_type": "code",
   "execution_count": null,
   "metadata": {},
   "outputs": [],
   "source": []
  },
  {
   "cell_type": "markdown",
   "metadata": {
    "deletable": false,
    "editable": false,
    "nbgrader": {
     "cell_type": "markdown",
     "checksum": "386396f23fe9fd5bd9ac8e69beb5aa4d",
     "grade": false,
     "grade_id": "cell-529ea8e41c970c14",
     "locked": true,
     "schema_version": 3,
     "solution": false,
     "task": false
    }
   },
   "source": [
    "13) Discuss in 250 words or less what your results show. You should consider the computational complexity of your functions. If you don’t manage to collect any data to discuss you should research and discuss what you would expect the results to show. [10%]"
   ]
  },
  {
   "cell_type": "markdown",
   "metadata": {
    "deletable": false,
    "nbgrader": {
     "cell_type": "markdown",
     "checksum": "a6c1f5981056c0b448a150a63191d6ba",
     "grade": true,
     "grade_id": "cell-e0e7def154df21da",
     "locked": false,
     "points": 10,
     "schema_version": 3,
     "solution": true,
     "task": false
    }
   },
   "source": [
    "In the image, we can see that time consuming in question 10 has a significantly increase compared to the other two with the increasing size of input.And time consuming in question 9 ranks second. This is because the time complexity in question 10 is o(n^3), in question 9 is o(n^3) and in question 8 is o(n^2). Hence, the rate of slope change in question 8 is smaller than the other two.However,due to numpy is originally coded in C language and has been highly optimzed, it can process huge number of inputs efficiently.That's why time consuming of np.dot() function is less than 3 for loops in question 10."
   ]
  },
  {
   "cell_type": "markdown",
   "metadata": {
    "deletable": false,
    "editable": false,
    "nbgrader": {
     "cell_type": "markdown",
     "checksum": "b744e851d8487bb664ec5628372272ad",
     "grade": false,
     "grade_id": "cell-65eafc932ba49291",
     "locked": true,
     "schema_version": 3,
     "solution": false,
     "task": false
    }
   },
   "source": [
    "## Section 3 (10%)"
   ]
  },
  {
   "cell_type": "markdown",
   "metadata": {
    "deletable": false,
    "editable": false,
    "nbgrader": {
     "cell_type": "markdown",
     "checksum": "e0c0ea748ad5b143f22f54e7c7179690",
     "grade": false,
     "grade_id": "cell-5669218f332bdcc5",
     "locked": true,
     "schema_version": 3,
     "solution": false,
     "task": false
    }
   },
   "source": [
    "14) In 250 words or less, reflect on the taught content and the learning outcomes of this module and identify the three most important points that you will take into future modules. [10%]"
   ]
  },
  {
   "cell_type": "markdown",
   "metadata": {
    "deletable": false,
    "nbgrader": {
     "cell_type": "markdown",
     "checksum": "a1a22a95dd87b357fcf84478a660fcda",
     "grade": true,
     "grade_id": "cell-e0efa57ad29309e7",
     "locked": false,
     "points": 10,
     "schema_version": 3,
     "solution": true,
     "task": false
    }
   },
   "source": [
    "In my opinion, depends on the content I have learnt, the three most important points are efficiency, explicit and convenience. First of all, when we analysis the data set, we need to program it to find the discipline in it. When we coding on it, we have to concern about the time complexity of the codes, it has direct relations with efficiency. Secondly, we need to figure out the way to show our analysis outcome to other people. Normally, using graphs to show the discipline of data is more explicit than discription. Finally, when we decide to use graphs, we need to think about which graph we should use, such as line graph or pie chart. It is important when we doing visualization and each kind of graph has their unique function. "
   ]
  },
  {
   "cell_type": "code",
   "execution_count": null,
   "metadata": {},
   "outputs": [],
   "source": []
  },
  {
   "cell_type": "code",
   "execution_count": null,
   "metadata": {},
   "outputs": [],
   "source": []
  }
 ],
 "metadata": {
  "kernelspec": {
   "display_name": "Python 3",
   "language": "python",
   "name": "python3"
  },
  "language_info": {
   "codemirror_mode": {
    "name": "ipython",
    "version": 3
   },
   "file_extension": ".py",
   "mimetype": "text/x-python",
   "name": "python",
   "nbconvert_exporter": "python",
   "pygments_lexer": "ipython3",
   "version": "3.8.10"
  }
 },
 "nbformat": 4,
 "nbformat_minor": 4
}
